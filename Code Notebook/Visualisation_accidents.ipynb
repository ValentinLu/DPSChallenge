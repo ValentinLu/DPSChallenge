values = [11026, 221616, 891374, 5216, 11312, 235892 ]
axis = ['Alcohol','Hit&run','Total', 'Alcohol - with personalinjury','Hit&run - with personalinjury','Total - with personalinjury', ]
fig = plt.figure(figsize = (20, 10))
plt.bar(axis, values, color=['red', 'orange', 'green'])
fig.savefig('yearly_difference.png')