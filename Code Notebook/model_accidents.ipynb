{
 "cells": [
  {
   "attachments": {},
   "cell_type": "markdown",
   "metadata": {},
   "source": [
    "Traffic Accidents in Munich\n",
    "\n",
    "Important columns: Category, Accident-type, year, month, value\n",
    "Goal is to predict values for: Akoholunfälle, insgesamt, 2021, 01\n",
    "\n",
    "The model is trained with the data until 2020. The updated data from 2021 will be used to compute the error between my prediction values and the actual numbers.\n",
    "\n"
   ]
  },
  {
   "cell_type": "code",
   "execution_count": 1,
   "metadata": {},
   "outputs": [],
   "source": [
    "# import scikit-learn libraries\n",
    "from sklearn.metrics import accuracy_score, confusion_matrix, classification_report\n",
    "from sklearn.model_selection import train_test_split\n",
    "from sklearn import metrics\n",
    "from sklearn.preprocessing import LabelEncoder\n",
    "from sklearn.neighbors import KNeighborsClassifier\n",
    "from sklearn.feature_selection import SelectFromModel\n",
    "from sklearn.ensemble import RandomForestClassifier\n",
    "from sklearn.tree import DecisionTreeRegressor\n",
    "from sklearn.tree import DecisionTreeClassifier\n",
    "from sklearn.preprocessing import scale\n",
    "from sklearn.neural_network import MLPClassifier\n",
    "from sklearn.model_selection import GridSearchCV\n",
    "from sklearn.metrics import accuracy_score\n",
    "from sklearn.neural_network import MLPRegressor\n",
    "from sklearn.metrics import classification_report\n",
    "from sklearn.linear_model import LinearRegression\n",
    "from sklearn.preprocessing import LabelEncoder\n",
    "from sklearn.model_selection import train_test_split, KFold, cross_val_score\n",
    "# import libraries for charting and manipulations with datasets\n",
    "import numpy as np\n",
    "from scipy import stats\n",
    "import seaborn as sns\n",
    "import pandas as pd\n",
    "import matplotlib.pyplot as plt\n"
   ]
  },
  {
   "cell_type": "code",
   "execution_count": 2,
   "metadata": {},
   "outputs": [],
   "source": [
    "# import warnings filter\n",
    "from warnings import simplefilter\n",
    "# ignore all future warnings\n",
    "simplefilter(action='ignore', category=FutureWarning)\n",
    "import warnings\n",
    "warnings.filterwarnings('ignore', category=DeprecationWarning)"
   ]
  },
  {
   "cell_type": "code",
   "execution_count": 3,
   "metadata": {},
   "outputs": [
    {
     "data": {
      "text/plain": [
       "Index          132\n",
       "category    198468\n",
       "type        180886\n",
       "year        127246\n",
       "month       131264\n",
       "value       122415\n",
       "dtype: int64"
      ]
     },
     "execution_count": 3,
     "metadata": {},
     "output_type": "execute_result"
    }
   ],
   "source": [
    "#read dataset and name columns\n",
    "df = pd.read_csv(\"https://raw.githubusercontent.com/ValentinLu/DPSChallenge/main/monatszahlen2209_verkehrsunfaelle.csv\", header=None)\n",
    "# drop unimportent columns\n",
    "df.drop(df.columns[[5,6,7,8]], axis=1, inplace=True)\n",
    "# drop header row\n",
    "df = df.drop(df[df.index == 0].index)\n",
    "# set names for columns\n",
    "df = df.set_axis(['category', 'type', 'year', 'month', 'value'], axis=1, inplace=False)\n",
    "df.memory_usage(deep=True)"
   ]
  },
  {
   "cell_type": "code",
   "execution_count": 4,
   "metadata": {},
   "outputs": [],
   "source": [
    "# copy dataframe for later usage\n",
    "data = df\n",
    "# drop rows with values year = 2021 and year = 2022 and month = Summe\n",
    "data = data.drop(data.query(\"year >= '2021'\").index)\n",
    "data = data.drop(data.query(\"month == 'Summe'\").index)\n",
    "# convert number columns\n",
    "data[['year', 'month', 'value']] = data[['year', 'month', 'value']].astype(np.int64)\n",
    "data[\"month\"] = pd.to_datetime(data[\"month\"], format=\"%Y%m\")"
   ]
  },
  {
   "cell_type": "code",
   "execution_count": 5,
   "metadata": {},
   "outputs": [
    {
     "name": "stdout",
     "output_type": "stream",
     "text": [
      "      category  type  year      month  value\n",
      "27           0     0  2020 2020-01-01     28\n",
      "28           0     0  2020 2020-02-01     40\n",
      "29           0     0  2020 2020-03-01     27\n",
      "30           0     0  2020 2020-04-01     26\n",
      "31           0     0  2020 2020-05-01     40\n",
      "...        ...   ...   ...        ...    ...\n",
      "2082         2     2  2000 2000-08-01    647\n",
      "2083         2     2  2000 2000-09-01    675\n",
      "2084         2     2  2000 2000-10-01    615\n",
      "2085         2     2  2000 2000-11-01    578\n",
      "2086         2     2  2000 2000-12-01    515\n",
      "\n",
      "[1764 rows x 5 columns]\n"
     ]
    }
   ],
   "source": [
    "#mapping for objects\n",
    "\"\"\" \n",
    "category: Alkoholunfälle:0,Fluchtunfälle:1,Verkehrsunfälle:1 \n",
    "type: 'insgesamt':0,'Verletzte und Getötete':1,'Personenschäden':1\n",
    "\"\"\"\n",
    "data['category'] = data.category.map({'Alkoholunfälle':0,'Fluchtunfälle':1,'Verkehrsunfälle':2})\n",
    "data['type'] = data.type.map({'insgesamt':0,'mit Personenschäden':1,'Verletzte und Getötete':2})\n",
    "print(data)"
   ]
  },
  {
   "cell_type": "code",
   "execution_count": null,
   "metadata": {},
   "outputs": [],
   "source": []
  },
  {
   "cell_type": "code",
   "execution_count": null,
   "metadata": {},
   "outputs": [],
   "source": []
  }
 ],
 "metadata": {
  "kernelspec": {
   "display_name": "Python 3",
   "language": "python",
   "name": "python3"
  },
  "language_info": {
   "codemirror_mode": {
    "name": "ipython",
    "version": 3
   },
   "file_extension": ".py",
   "mimetype": "text/x-python",
   "name": "python",
   "nbconvert_exporter": "python",
   "pygments_lexer": "ipython3",
   "version": "3.10.4"
  },
  "orig_nbformat": 4,
  "vscode": {
   "interpreter": {
    "hash": "3ad933181bd8a04b432d3370b9dc3b0662ad032c4dfaa4e4f1596c548f763858"
   }
  }
 },
 "nbformat": 4,
 "nbformat_minor": 2
}
